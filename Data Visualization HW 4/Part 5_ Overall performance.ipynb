{
 "cells": [
  {
   "cell_type": "code",
   "execution_count": 6,
   "metadata": {},
   "outputs": [
    {
     "name": "stderr",
     "output_type": "stream",
     "text": [
      "C:\\Users\\arman.manoukyan\\AppData\\Local\\Temp\\ipykernel_4100\\3649378689.py:7: MatplotlibDeprecationWarning: The get_cmap function was deprecated in Matplotlib 3.7 and will be removed in 3.11. Use ``matplotlib.colormaps[name]`` or ``matplotlib.colormaps.get_cmap()`` or ``pyplot.get_cmap()`` instead.\n",
      "  colors = cm.get_cmap('tab20', len(unique_teams))\n"
     ]
    }
   ],
   "source": [
    "import pandas as pd\n",
    "import matplotlib.pyplot as plt\n",
    "import matplotlib.cm as cm\n",
    "import matplotlib.colors as mcolors\n",
    "df = pd.read_csv(\"bundesliga2.csv\")\n",
    "unique_teams = df[\"TEAM\"].unique()\n",
    "colors = cm.get_cmap('tab20', len(unique_teams))\n",
    "team_color_map = {team: mcolors.rgb2hex(colors(i)) for i, team in enumerate(unique_teams)}\n",
    "\n",
    "from matplotlib.backends.backend_pdf import PdfPages\n",
    "pdf = PdfPages(\"Overall_Performance_GoalDiff_Python1.pdf\")\n",
    "\n",
    "for season in sorted(df[\"SEASON\"].unique()):\n",
    "    season_df = df[df[\"SEASON\"] == season].copy()\n",
    "    season_df = season_df.sort_values(\"DIFF\", ascending=True)\n",
    "\n",
    "    fig, ax = plt.subplots(figsize=(10, 6))\n",
    "    bars = ax.barh(season_df[\"TEAM\"], season_df[\"DIFF\"],\n",
    "                   color=[team_color_map[team] for team in season_df[\"TEAM\"]])\n",
    "\n",
    "    winner = season_df[season_df[\"POSITION\"] == 1][\"TEAM\"].values[0] ## Highlight the winner\n",
    "    winner_idx = list(season_df[\"TEAM\"]).index(winner)\n",
    "    bars[winner_idx].set_color(\"red\")\n",
    "\n",
    "    ax.set_title(f\"Season {season} - Goal Difference per Team\\nWinner: {winner}\")\n",
    "    ax.set_xlabel(\"Goal Difference\")\n",
    "    ax.set_ylabel(\"Team\")\n",
    "    plt.tight_layout()\n",
    "    pdf.savefig(fig)\n",
    "    plt.close()\n",
    "\n",
    "pdf.close()\n"
   ]
  }
 ],
 "metadata": {
  "kernelspec": {
   "display_name": "base",
   "language": "python",
   "name": "python3"
  },
  "language_info": {
   "codemirror_mode": {
    "name": "ipython",
    "version": 3
   },
   "file_extension": ".py",
   "mimetype": "text/x-python",
   "name": "python",
   "nbconvert_exporter": "python",
   "pygments_lexer": "ipython3",
   "version": "3.11.4"
  }
 },
 "nbformat": 4,
 "nbformat_minor": 2
}
